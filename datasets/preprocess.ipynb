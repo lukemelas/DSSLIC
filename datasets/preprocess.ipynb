{
 "cells": [
  {
   "cell_type": "markdown",
   "metadata": {},
   "source": [
    "#### Preprocess dataset"
   ]
  },
  {
   "cell_type": "code",
   "execution_count": 1,
   "metadata": {},
   "outputs": [],
   "source": [
    "import os"
   ]
  },
  {
   "cell_type": "code",
   "execution_count": 11,
   "metadata": {},
   "outputs": [
    {
     "name": "stdout",
     "output_type": "stream",
     "text": [
      "ADE_train_00000970_atr.txt\r\n",
      "ADE_train_00000970.jpg\r\n",
      "ADE_train_00000970_parts_1.png\r\n",
      "ADE_train_00000970_seg.png\r\n",
      "ADE_train_00000971_atr.txt\r\n",
      "ADE_train_00000971.jpg\r\n",
      "ADE_train_00000971_seg.png\r\n",
      "ADE_train_00000972_atr.txt\r\n",
      "ADE_train_00000972.jpg\r\n",
      "ADE_train_00000972_parts_1.png\r\n"
     ]
    }
   ],
   "source": [
    "!ls a/abbey | head"
   ]
  },
  {
   "cell_type": "code",
   "execution_count": 10,
   "metadata": {},
   "outputs": [],
   "source": [
    "!mkdir train_img train_label train_txt train_parts"
   ]
  },
  {
   "cell_type": "code",
   "execution_count": 82,
   "metadata": {},
   "outputs": [],
   "source": [
    "# Add all content in subdirectory to lists\n",
    "paths = {\n",
    "    'img': [],\n",
    "    'label': [],\n",
    "    'txt': [],\n",
    "    'parts': [],\n",
    "}\n",
    "\n",
    "def add_paths(current_dir):\n",
    "    filepaths = sorted(os.listdir(current_dir))\n",
    "    filepaths = [os.path.join(current_dir, x) for x in filepaths]\n",
    "    imgs = [x for x in filepaths if 'jpg' in x]\n",
    "    segs = [x for x in filepaths if 'seg' in x]\n",
    "    txts = [x for x in filepaths if 'txt' in x]\n",
    "    parts = [x for x in filepaths if 'part' in x]\n",
    "    paths['img'] += imgs\n",
    "    paths['label'] += segs\n",
    "    paths['txt'] += txts\n",
    "    paths['parts'] += parts\n",
    "\n",
    "# Loop through subdirectories\n",
    "for s in list('abcdefghijklmnopqrstuvwyz') + ['outliers']:\n",
    "    for d in sorted(os.listdir(s)):\n",
    "        current_dir = os.path.join(s,d)\n",
    "        \n",
    "        # Check if we have to recurse again\n",
    "        if os.listdir(current_dir) and 'ADE' not in os.listdir(current_dir)[0]:\n",
    "            for d2 in os.listdir(current_dir):\n",
    "                current_dir = os.path.join(s,d,d2) \n",
    "                add_paths(current_dir)\n",
    "        else:\n",
    "            add_paths(current_dir)\n",
    "\n",
    "# Add misc files\n",
    "add_paths('./misc')\n",
    "        "
   ]
  },
  {
   "cell_type": "code",
   "execution_count": 90,
   "metadata": {},
   "outputs": [
    {
     "name": "stdout",
     "output_type": "stream",
     "text": [
      "5922 =?= 5922\n",
      "s/sacristy/ADE_train_00016051.jpg =?= s/sacristy/ADE_train_00016051_seg.png\n",
      "v/valley/ADE_train_00019439.jpg =?= v/valley/ADE_train_00019439_seg.png\n",
      "./misc/ADE_train_00013805.jpg =?= ./misc/ADE_train_00013805_seg.png\n"
     ]
    }
   ],
   "source": [
    "# Check\n",
    "print(len(paths['img']), '=?=', len(paths['label']))\n",
    "print(paths['img'][0], '=?=', paths['label'][0])\n",
    "print(paths['img'][2891], '=?=', paths['label'][2891])\n",
    "print(paths['img'][-1], '=?=', paths['label'][-1])"
   ]
  },
  {
   "cell_type": "code",
   "execution_count": 97,
   "metadata": {
    "collapsed": true
   },
   "outputs": [
    {
     "name": "stdout",
     "output_type": "stream",
     "text": [
      "0\n",
      "100\n",
      "200\n",
      "300\n",
      "400\n",
      "500\n",
      "600\n",
      "700\n",
      "800\n",
      "900\n",
      "1000\n",
      "1100\n",
      "1200\n",
      "1300\n",
      "1400\n",
      "1500\n",
      "1600\n",
      "1700\n",
      "1800\n",
      "1900\n",
      "2000\n",
      "2100\n",
      "2200\n",
      "2300\n",
      "2400\n",
      "2500\n",
      "2600\n",
      "2700\n",
      "2800\n",
      "2900\n",
      "3000\n",
      "3100\n",
      "3200\n",
      "3300\n",
      "3400\n",
      "3500\n",
      "3600\n",
      "3700\n",
      "3800\n",
      "3900\n",
      "4000\n",
      "4100\n",
      "4200\n",
      "4300\n",
      "4400\n",
      "4500\n",
      "4600\n",
      "4700\n",
      "4800\n",
      "4900\n",
      "5000\n",
      "5100\n",
      "5200\n",
      "5300\n",
      "5400\n",
      "5500\n",
      "5600\n",
      "5700\n",
      "5800\n",
      "5900\n",
      "Done\n"
     ]
    }
   ],
   "source": [
    "# Move\n",
    "for k, (i, l, t, p) in enumerate(zip(paths['img'], paths['label'], paths['txt'], paths['parts'])):\n",
    "    if k % 100 == 0: print(k)\n",
    "    os.system(f'mv {i} ./train_img/')\n",
    "    os.system(f'mv {l} ./train_label/')\n",
    "    os.system(f'mv {t} ./train_txt/')\n",
    "    os.system(f'mv {p} ./train_parts/')\n",
    "\n",
    "for k, (i, l, t) in enumerate(zip(paths['img'], paths['label'], paths['txt'])):\n",
    "    if k % 100 == 0: print(k)\n",
    "    os.system(f'mv {i} ./train_img/')\n",
    "    os.system(f'mv {l} ./train_label/')\n",
    "    os.system(f'mv {t} ./train_txt/')\n",
    "print('Done')"
   ]
  },
  {
   "cell_type": "code",
   "execution_count": 99,
   "metadata": {},
   "outputs": [
    {
     "name": "stdout",
     "output_type": "stream",
     "text": [
      "360K\ta\n",
      "972K\tb\n",
      "604K\tc\n",
      "304K\td\n",
      "92K\te\n",
      "280K\tf\n",
      "204K\tg\n",
      "264K\th\n",
      "80K\ti\n",
      "68K\tj\n",
      "184K\tk\n",
      "348K\tl\n",
      "256K\tm\n",
      "264K\tmisc\n",
      "68K\tn\n",
      "148K\to\n",
      "792K\toutliers\n",
      "356K\tp\n",
      "8.0K\tpreprocess.ipynb\n",
      "24K\tq\n",
      "208K\tr\n",
      "848K\ts\n",
      "244K\tt\n",
      "3.2G\ttrain_img\n",
      "316M\ttrain_label\n",
      "174M\ttrain_parts\n",
      "82M\ttrain_txt\n",
      "32K\tu\n",
      "80K\tv\n",
      "228K\tw\n",
      "20K\ty\n",
      "16K\tz\n"
     ]
    }
   ],
   "source": [
    "!du -hs * "
   ]
  },
  {
   "cell_type": "code",
   "execution_count": null,
   "metadata": {},
   "outputs": [],
   "source": []
  }
 ],
 "metadata": {
  "kernelspec": {
   "display_name": "Python 3",
   "language": "python",
   "name": "python3"
  },
  "language_info": {
   "codemirror_mode": {
    "name": "ipython",
    "version": 3
   },
   "file_extension": ".py",
   "mimetype": "text/x-python",
   "name": "python",
   "nbconvert_exporter": "python",
   "pygments_lexer": "ipython3",
   "version": "3.6.6"
  }
 },
 "nbformat": 4,
 "nbformat_minor": 2
}
